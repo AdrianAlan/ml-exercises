{
 "cells": [
  {
   "cell_type": "code",
   "execution_count": null,
   "id": "bd31cc0c",
   "metadata": {},
   "outputs": [],
   "source": [
    "import numpy as np\n",
    "import matplotlib.pyplot as plt\n",
    "import matplotlib.image as mpimg"
   ]
  },
  {
   "cell_type": "code",
   "execution_count": null,
   "id": "f66b476a",
   "metadata": {},
   "outputs": [],
   "source": [
    "# Load and show an image\n",
    "\n",
    "img = mpimg.imread(\n",
    "    \"https://cms.cern/sites/default/files/2022-06/Picture%201_0.png\"\n",
    ")\n",
    "plt.imshow(img);"
   ]
  },
  {
   "cell_type": "code",
   "execution_count": null,
   "id": "03d45a7a",
   "metadata": {},
   "outputs": [],
   "source": [
    "# Implement convolution using numpy\n",
    "\n",
    "def convolution(inputs, kernel):\n",
    "    ih, iw, _ = inputs.shape # dim of the image\n",
    "    kh, kw = kernel.shape # dim of the kernel\n",
    "    out = None #TODO: define the output shape\n",
    "    \n",
    "    for v in range(0, out.shape[0]):\n",
    "        for u in range(0, out.shape[1]):\n",
    "            for d in range(0, out.shape[2]):\n",
    "                out[v, u, d] += 0 #TODO: perform element-wise multiplication \n",
    "    return out"
   ]
  },
  {
   "cell_type": "code",
   "execution_count": null,
   "id": "a7c42def",
   "metadata": {},
   "outputs": [],
   "source": [
    "# Define our filter: edge detection\n",
    "\n",
    "sobel_filter = np.array(\n",
    "    [\n",
    "        [ 1,  2,  1],\n",
    "        [ 0,  0,  0],\n",
    "        [-1, -2, -1]\n",
    "    ]\n",
    ")"
   ]
  },
  {
   "cell_type": "code",
   "execution_count": null,
   "id": "95c8c118",
   "metadata": {},
   "outputs": [],
   "source": [
    "# Perform our convolution and show the result\n",
    "\n",
    "img_edges = convolution(img, sobel_filter)\n",
    "plt.imshow(img_edges, cmap='bwr');"
   ]
  }
 ],
 "metadata": {
  "kernelspec": {
   "display_name": "Python 3 (ipykernel)",
   "language": "python",
   "name": "python3"
  },
  "language_info": {
   "codemirror_mode": {
    "name": "ipython",
    "version": 3
   },
   "file_extension": ".py",
   "mimetype": "text/x-python",
   "name": "python",
   "nbconvert_exporter": "python",
   "pygments_lexer": "ipython3",
   "version": "3.8.16"
  }
 },
 "nbformat": 4,
 "nbformat_minor": 5
}
